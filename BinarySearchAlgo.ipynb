{
 "cells": [
  {
   "cell_type": "markdown",
   "id": "bridal-damage",
   "metadata": {},
   "source": [
    "### Binary Search Alogrithm"
   ]
  },
  {
   "cell_type": "code",
   "execution_count": 20,
   "id": "solved-gates",
   "metadata": {},
   "outputs": [],
   "source": [
    "def search(array,target):\n",
    "    size=len(array)\n",
    "    mid=size//2\n",
    "    if size==0: # if array is empty\n",
    "        return False\n",
    "    elif mid==0 and array[mid]!=target:\n",
    "        return False\n",
    "    elif array[mid]==target:\n",
    "        return True\n",
    "    elif array[mid] > target:\n",
    "        return search(array[:mid],target)\n",
    "    elif array[mid] < target:\n",
    "        return search(array[mid:],target)"
   ]
  },
  {
   "cell_type": "code",
   "execution_count": 21,
   "id": "typical-ukraine",
   "metadata": {},
   "outputs": [
    {
     "name": "stdout",
     "output_type": "stream",
     "text": [
      "False\n"
     ]
    }
   ],
   "source": [
    "array=[1,2,3,4,5,6,7,8,90]\n",
    "print(search(array,94))"
   ]
  },
  {
   "cell_type": "code",
   "execution_count": 22,
   "id": "ancient-restoration",
   "metadata": {},
   "outputs": [
    {
     "name": "stdout",
     "output_type": "stream",
     "text": [
      "True\n"
     ]
    }
   ],
   "source": [
    "print(search(array,90))"
   ]
  },
  {
   "cell_type": "code",
   "execution_count": 23,
   "id": "sought-recycling",
   "metadata": {},
   "outputs": [
    {
     "name": "stdout",
     "output_type": "stream",
     "text": [
      "False\n"
     ]
    }
   ],
   "source": [
    "print(search([],8))"
   ]
  },
  {
   "cell_type": "code",
   "execution_count": null,
   "id": "social-alignment",
   "metadata": {},
   "outputs": [],
   "source": []
  }
 ],
 "metadata": {
  "kernelspec": {
   "display_name": "Python 3",
   "language": "python",
   "name": "python3"
  },
  "language_info": {
   "codemirror_mode": {
    "name": "ipython",
    "version": 3
   },
   "file_extension": ".py",
   "mimetype": "text/x-python",
   "name": "python",
   "nbconvert_exporter": "python",
   "pygments_lexer": "ipython3",
   "version": "3.9.2"
  }
 },
 "nbformat": 4,
 "nbformat_minor": 5
}
