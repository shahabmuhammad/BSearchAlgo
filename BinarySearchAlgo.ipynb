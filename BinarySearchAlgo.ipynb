{
 "cells": [
  {
   "cell_type": "markdown",
   "id": "intermediate-purpose",
   "metadata": {},
   "source": [
    "### Binary Search Alogrithm"
   ]
  },
  {
   "cell_type": "code",
   "execution_count": 10,
   "id": "friendly-suspension",
   "metadata": {},
   "outputs": [],
   "source": [
    "def search(array,target):\n",
    "    size=len(array)\n",
    "    mid=size//2\n",
    "    if mid==0 and array[mid]!=target:\n",
    "        return False\n",
    "    elif array[mid]==target:\n",
    "        return True\n",
    "    elif array[mid] > target:\n",
    "        return search(array[:mid],target)\n",
    "    elif array[mid] < target:\n",
    "        return search(array[mid:],target)"
   ]
  },
  {
   "cell_type": "code",
   "execution_count": 11,
   "id": "reported-steps",
   "metadata": {},
   "outputs": [
    {
     "name": "stdout",
     "output_type": "stream",
     "text": [
      "False\n"
     ]
    }
   ],
   "source": [
    "array=[1,2,3,4,5,6,7,8,90]\n",
    "print(search(array,94))"
   ]
  },
  {
   "cell_type": "code",
   "execution_count": null,
   "id": "tested-paraguay",
   "metadata": {},
   "outputs": [],
   "source": []
  }
 ],
 "metadata": {
  "kernelspec": {
   "display_name": "Python 3",
   "language": "python",
   "name": "python3"
  },
  "language_info": {
   "codemirror_mode": {
    "name": "ipython",
    "version": 3
   },
   "file_extension": ".py",
   "mimetype": "text/x-python",
   "name": "python",
   "nbconvert_exporter": "python",
   "pygments_lexer": "ipython3",
   "version": "3.9.2"
  }
 },
 "nbformat": 4,
 "nbformat_minor": 5
}
